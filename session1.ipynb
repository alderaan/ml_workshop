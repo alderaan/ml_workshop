{
  "nbformat": 4,
  "nbformat_minor": 0,
  "metadata": {
    "colab": {
      "name": "session1.ipynb",
      "version": "0.3.2",
      "provenance": [],
      "include_colab_link": true
    },
    "kernelspec": {
      "display_name": "Python 3",
      "language": "python",
      "name": "python3"
    }
  },
  "cells": [
    {
      "cell_type": "markdown",
      "metadata": {
        "id": "view-in-github",
        "colab_type": "text"
      },
      "source": [
        "[View in Colaboratory](https://colab.research.google.com/github/alderaan/ml_workshop/blob/master/session1.ipynb)"
      ]
    },
    {
      "metadata": {
        "id": "T5NMo92vx0vg",
        "colab_type": "text"
      },
      "cell_type": "markdown",
      "source": [
        "# Session 1: Escaping GridWorld with Simple RL Agents"
      ]
    },
    {
      "metadata": {
        "id": "Tq-XhIDSx0vh",
        "colab_type": "text"
      },
      "cell_type": "markdown",
      "source": [
        "## Colab Setup"
      ]
    },
    {
      "metadata": {
        "id": "BJ5ogZ7Xx0vi",
        "colab_type": "code",
        "colab": {
          "base_uri": "https://localhost:8080/",
          "height": 153
        },
        "outputId": "3fbb6898-e6c6-443d-8d31-fe1e8ea584e0"
      },
      "cell_type": "code",
      "source": [
        "#uncomment only if you're running from google colab\n",
        "!git clone https://github.com/Datatouille/rl-workshop\n",
        "!mv rl-workshop/* .\n",
        "!ls"
      ],
      "execution_count": 1,
      "outputs": [
        {
          "output_type": "stream",
          "text": [
            "Cloning into 'rl-workshop'...\n",
            "remote: Enumerating objects: 96, done.\u001b[K\n",
            "remote: Counting objects: 100% (96/96), done.\u001b[K\n",
            "remote: Compressing objects: 100% (63/63), done.\u001b[K\n",
            "remote: Total 96 (delta 43), reused 81 (delta 31), pack-reused 0\u001b[K\n",
            "Unpacking objects: 100% (96/96), done.\n",
            "img\t README.md    sample_data     session1.ipynb  solutions\n",
            "LICENSE  rl-workshop  session0.ipynb  session2.ipynb\n"
          ],
          "name": "stdout"
        }
      ]
    },
    {
      "metadata": {
        "id": "9mjuX1q2x0vl",
        "colab_type": "text"
      },
      "cell_type": "markdown",
      "source": [
        "## Imports"
      ]
    },
    {
      "metadata": {
        "id": "DqOJ0PSux0vm",
        "colab_type": "code",
        "colab": {}
      },
      "cell_type": "code",
      "source": [
        "import numpy as np\n",
        "import random\n",
        "from collections import defaultdict\n",
        "import matplotlib.pyplot as plt\n",
        "#cross check with our solutions once you finish\n",
        "# from solutions.agents import MCAgent\n",
        "from solutions.environments import Gridworld"
      ],
      "execution_count": 0,
      "outputs": []
    },
    {
      "metadata": {
        "id": "qRXJjVy-x0vo",
        "colab_type": "text"
      },
      "cell_type": "markdown",
      "source": [
        "## What is Reinforcement Learning"
      ]
    },
    {
      "metadata": {
        "id": "khmlkL1Fx0vp",
        "colab_type": "code",
        "colab": {},
        "outputId": "be37e0c0-e07b-4e1c-b045-8ab2be877c7a"
      },
      "cell_type": "code",
      "source": [
        "%%HTML\n",
        "<iframe width=\"560\" height=\"315\" src=\"https://www.youtube.com/embed/SvXXpmXedHE\" frameborder=\"0\" allow=\"autoplay; encrypted-media\" allowfullscreen></iframe>"
      ],
      "execution_count": 0,
      "outputs": [
        {
          "output_type": "display_data",
          "data": {
            "text/html": [
              "<iframe width=\"560\" height=\"315\" src=\"https://www.youtube.com/embed/SvXXpmXedHE\" frameborder=\"0\" allow=\"autoplay; encrypted-media\" allowfullscreen></iframe>"
            ],
            "text/plain": [
              "<IPython.core.display.HTML object>"
            ]
          },
          "metadata": {
            "tags": []
          }
        }
      ]
    },
    {
      "metadata": {
        "id": "DJ0C_T-Nx0vs",
        "colab_type": "code",
        "colab": {},
        "outputId": "07f11e1d-8ee1-44f4-aff0-12a3b8bda9b6"
      },
      "cell_type": "code",
      "source": [
        "%%HTML\n",
        "<iframe width=\"560\" height=\"315\" src=\"https://www.youtube.com/embed/Ru5xQPZPRUI\" frameborder=\"0\" allow=\"autoplay; encrypted-media\" allowfullscreen></iframe>"
      ],
      "execution_count": 0,
      "outputs": [
        {
          "output_type": "display_data",
          "data": {
            "text/html": [
              "<iframe width=\"560\" height=\"315\" src=\"https://www.youtube.com/embed/Ru5xQPZPRUI\" frameborder=\"0\" allow=\"autoplay; encrypted-media\" allowfullscreen></iframe>"
            ],
            "text/plain": [
              "<IPython.core.display.HTML object>"
            ]
          },
          "metadata": {
            "tags": []
          }
        }
      ]
    },
    {
      "metadata": {
        "id": "FnojpQ9Xx0vw",
        "colab_type": "text"
      },
      "cell_type": "markdown",
      "source": [
        "## How Useful is Reinforcement Learning"
      ]
    },
    {
      "metadata": {
        "id": "dm7lLGikx0vy",
        "colab_type": "text"
      },
      "cell_type": "markdown",
      "source": [
        "Deep reinforcement learning has been successful (better than or equal to supervised learning) in:\n",
        "* Beating professional [Go players](https://deepmind.com/research/alphago/), [Flappy Bird](https://www.youtube.com/watch?v=hri7ir5qhj0) and, to some extent [DotA players](https://youtu.be/UZHTNBMAfAA?t=2m40s).\n",
        "* Reduce data center power usage and [save 40% of electricity bill](https://deepmind.com/blog/deepmind-ai-reduces-google-data-centre-cooling-bill-40/)\n",
        "* Neural architecture search for better algorithms aka [AutoML](https://cloud.google.com/automl/)\n",
        "* Control tasks for robotics like [this](https://www.youtube.com/watch?v=W_gxLKSsSIE) and [this](https://www.youtube.com/watch?v=gn4nRCC9TwQ)\n",
        "* [Self-driving cars](https://www.youtube.com/watch?v=opsmd5yuBF0)\n",
        "* [Ads bidding](http://wnzhang.net/papers/rlb.pdf)\n",
        "\n",
        "And most likely being tried for:\n",
        "* [Algorithmic trading](http://www.wildml.com/2018/02/introduction-to-learning-to-trade-with-reinforcement-learning/)\n",
        "* [Supply chain management](https://www.youtube.com/watch?v=gQa6iWGcGWY)\n",
        "* Drug discovery\n",
        "* Security\n",
        "* Recommendation engines"
      ]
    },
    {
      "metadata": {
        "id": "klL9ecbEx0vy",
        "colab_type": "text"
      },
      "cell_type": "markdown",
      "source": [
        "## Why is Reinforcement Learning Different"
      ]
    },
    {
      "metadata": {
        "id": "tPOamMUOx0vz",
        "colab_type": "text"
      },
      "cell_type": "markdown",
      "source": [
        "Level of workflow automation in classes of machine learning algorithm:\n",
        "* Supervised Learning\n",
        "$$\\text{Raw Data (X,y)} \\Rightarrow \\text{Labeled Data} \\rightarrow \\text{Model} \\rightarrow \\text{Predicted Labels} \\Rightarrow \\text{Actions}$$\n",
        "\n",
        "* Unsupervised Learning\n",
        "$$\\text{Raw Data (X)} \\rightarrow \\text{Model} \\rightarrow \\text{Predicted Clusters} \\Rightarrow \\text{Labled Clusters} \\Rightarrow \\text{Actions}$$\n",
        "\n",
        "* Reinforcement Learning\n",
        "$$\\text{Raw Data} \\Rightarrow \\text{RL Scheme (S,A,R,S',A')} \\rightarrow \\text{Model} \\rightarrow \\text{Action}$$\n",
        "\n",
        "\n",
        "where $\\Rightarrow$ denotes transformations that require humans and $\\rightarrow$ denotes those that do not."
      ]
    },
    {
      "metadata": {
        "id": "ZAfE96Cwx0vz",
        "colab_type": "text"
      },
      "cell_type": "markdown",
      "source": [
        "## Fill in The Code"
      ]
    },
    {
      "metadata": {
        "id": "YqK0YbAbx0v0",
        "colab_type": "code",
        "colab": {}
      },
      "cell_type": "code",
      "source": [
        "import numpy as np\n",
        "from collections import defaultdict\n",
        "import sys\n",
        "\n",
        "\"\"\"\n",
        "Coding assignment order:\n",
        "1. select_action\n",
        "2. get_v\n",
        "\"\"\"\n",
        "\n",
        "class MCAgent:\n",
        "    def __init__(self, env, policy, gamma = 0.9, \n",
        "                 start_epsilon = 0.9, end_epsilon = 0.1, epsilon_decay = 0.9):\n",
        "        self.env = env\n",
        "        self.n_action = len(self.env.action_space)\n",
        "        self.policy = policy\n",
        "        self.gamma = gamma\n",
        "        self.v = dict.fromkeys(self.env.state_space,0)\n",
        "        self.n_v = dict.fromkeys(self.env.state_space,0)\n",
        "        self.q = defaultdict(lambda: np.zeros(self.n_action))\n",
        "        self.n_q = defaultdict(lambda: np.zeros(self.n_action))\n",
        "        self.start_epsilon = start_epsilon\n",
        "        self.end_epsilon = end_epsilon\n",
        "        self.epsilon_decay = epsilon_decay\n",
        "    def get_epsilon(self,n_episode):\n",
        "        epsilon = max(self.start_epsilon * (self.epsilon_decay**n_episode),self.end_epsilon)\n",
        "        return(epsilon)\n",
        "    def get_v(self,start_state,epsilon = 0.):\n",
        "        episode = self.run_episode(start_state,epsilon)\n",
        "        \"\"\"\n",
        "        Write the code to calculate the state value function of a state \n",
        "        given a deterministic policy.\n",
        "        \"\"\"\n",
        "        episode = self.run_episode(start_state,epsilon)\n",
        "        v=0\n",
        "        return(v)\n",
        "    def get_q(self, start_state, first_action, epsilon=0.):\n",
        "        episode = self.run_episode(start_state,epsilon,first_action)\n",
        "        q = np.sum([episode[i][2] * self.gamma**i for i in range(len(episode))])\n",
        "        return(q)\n",
        "    def select_action(self,state,epsilon):\n",
        "        \"\"\"\n",
        "        Currently the agent only selects a random action.\n",
        "        Write the code to make the agent perform \n",
        "        according to an epsilon-greedy policy.\n",
        "        \"\"\"\n",
        "        \n",
        "        best_action = self.policy[state]\n",
        "        if random.random() > epsilon:\n",
        "            action = best_action\n",
        "        else:\n",
        "            action = np.random.choice(np.arange(self.n_action))\n",
        "        return(action)\n",
        "      \n",
        "    def print_policy(self):\n",
        "        for i in range(self.env.sz[0]):\n",
        "            print('\\n----------')\n",
        "            for j in range(self.env.sz[1]):\n",
        "                p=self.policy[(i,j)]\n",
        "                out = self.env.action_text[p]\n",
        "                print(f'{out} |',end='')\n",
        "    def print_v(self, decimal = 1):\n",
        "        for i in range(self.env.sz[0]):\n",
        "            print('\\n---------------')\n",
        "            for j in range(self.env.sz[1]):\n",
        "                out=np.round(self.v[(i,j)],decimal)\n",
        "                print(f'{out} |',end='')\n",
        "    def run_episode(self, start, epsilon, first_action = None):\n",
        "        result = []\n",
        "        state = self.env.reset(start)\n",
        "        #dictate first action to iterate q\n",
        "        if first_action is not None:\n",
        "            action = first_action\n",
        "            next_state,reward,done = self.env.step(action)\n",
        "            result.append((state,action,reward,next_state,done))\n",
        "            state = next_state\n",
        "            if done: return(result)\n",
        "        while True:\n",
        "            action = self.select_action(state,epsilon)\n",
        "            next_state,reward,done = self.env.step(action)\n",
        "            result.append((state,action,reward,next_state,done))\n",
        "            state = next_state\n",
        "            if done: break\n",
        "        return(result)\n",
        "    def update_policy_q(self):\n",
        "        for state in self.env.state_space:\n",
        "            self.policy[state] = np.argmax(self.q[state])\n",
        "    def mc_predict_v(self,n_episode=10000,first_visit=True):\n",
        "        for t in range(n_episode):\n",
        "            traversed = []\n",
        "            e = self.get_epsilon(t)\n",
        "            transitions = self.run_episode(self.env.start,e)\n",
        "            states,actions,rewards,next_states,dones = zip(*transitions)\n",
        "            for i in range(len(transitions)):\n",
        "                if first_visit and (states[i] not in traversed):\n",
        "                    traversed.append(states[i])\n",
        "                    self.n_v[states[i]]+=1\n",
        "                    discounts = np.array([self.gamma**j for j in range(len(transitions)+1)])\n",
        "                    self.v[states[i]]+= sum(rewards[i:]*discounts[:-(1+i)])\n",
        "        for state in self.env.state_space:\n",
        "            if state != self.env.goal:\n",
        "                self.v[state] = self.v[state] / self.n_v[state]\n",
        "            else:\n",
        "                self.v[state] = 0\n",
        "    \n",
        "    def mc_predict_q(self,n_episode=10000,first_visit=True):\n",
        "        for t in range(n_episode):\n",
        "            traversed = []\n",
        "            e = self.get_epsilon(t)\n",
        "            transitions = self.run_episode(self.env.start,e)\n",
        "            states,actions,rewards,next_states,dones = zip(*transitions)\n",
        "            for i in range(len(transitions)):\n",
        "                if first_visit and ((states[i],actions[i]) not in traversed):\n",
        "                    traversed.append((states[i],actions[i]))\n",
        "                    self.n_q[states[i]][actions[i]]+=1\n",
        "                    discounts = np.array([self.gamma**j for j in range(len(transitions)+1)])\n",
        "                    self.q[states[i]][actions[i]]+= sum(rewards[i:]*discounts[:-(1+i)])\n",
        "                elif not first_visit:\n",
        "                    self.n_q[states[i]][actions[i]]+=1\n",
        "                    discounts = np.array([self.gamma**j for j in range(len(transitions)+1)])\n",
        "                    self.q[states[i]][actions[i]]+= sum(rewards[i:]*discounts[:-(1+i)])\n",
        "\n",
        "        #print(self.q,self.n_q)\n",
        "        for state in self.env.state_space:\n",
        "            for action in range(self.n_action):\n",
        "                if state != self.env.goal:\n",
        "                    self.q[state][action] = self.q[state][action] / self.n_q[state][action]\n",
        "                else:\n",
        "                    self.q[state][action] = 0\n",
        "        \n",
        "    def mc_control_q(self,n_episode=10000,first_visit=True):\n",
        "        self.mc_predict_q(n_episode,first_visit)\n",
        "        self.update_policy_q()\n",
        "        \n",
        "    def mc_control_glie(self,n_episode=10000,first_visit=True,lr=0.):\n",
        "        for t in range(n_episode):\n",
        "            traversed = []\n",
        "            e = self.get_epsilon(t)\n",
        "            transitions = self.run_episode(self.env.start,e)\n",
        "            states,actions,rewards,next_states,dones = zip(*transitions)\n",
        "            for i in range(len(transitions)):\n",
        "                if first_visit and ((states[i],actions[i]) not in traversed):\n",
        "                    traversed.append((states[i],actions[i]))\n",
        "                    self.n_q[states[i]][actions[i]]+=1\n",
        "                    discounts = np.array([self.gamma**j for j in range(len(transitions)+1)])\n",
        "                    g = sum(rewards[i:]*discounts[:-(1+i)])\n",
        "                    if lr > 0:\n",
        "                        a = lr\n",
        "                    else:\n",
        "                        a = (1/self.n_q[states[i]][actions[i]])\n",
        "                    self.q[states[i]][actions[i]]+= a*(g - self.q[states[i]][actions[i]])\n",
        "                    self.update_policy_q()"
      ],
      "execution_count": 0,
      "outputs": []
    },
    {
      "metadata": {
        "id": "NQwwNXi-x0v2",
        "colab_type": "text"
      },
      "cell_type": "markdown",
      "source": [
        "## Reinforcement Learning Framework"
      ]
    },
    {
      "metadata": {
        "id": "ilATa_6Gx0v2",
        "colab_type": "text"
      },
      "cell_type": "markdown",
      "source": [
        "Reinforcement learning formulates interaction between an **agent** and its **environment** as **Markov decision processes**. For a given **state**, an agent takes an **action** based on the current **state**. In response to that action at that state, the agent will then get some **reward** from the environment, and that state changes to the next one.\n",
        "\n",
        "$S_0 \\rightarrow A_0 \\rightarrow R_1 \\rightarrow S_1 \\rightarrow A_1 \\rightarrow R_2 \\rightarrow S_2 \\rightarrow ... \\rightarrow S_{t-1} \\rightarrow A_{t-1} \\rightarrow R_t \\rightarrow S_{t}$\n",
        "\n",
        "where $t$ is the last time step and $S_t$ is the **terminal state** meaning an **episode** of the interactions ended. RL problems that have an end are called **episodic tasks** and those that do not are called **continuous tasks**."
      ]
    },
    {
      "metadata": {
        "id": "BE0nyXRyx0v3",
        "colab_type": "text"
      },
      "cell_type": "markdown",
      "source": [
        "![RL Framework](https://github.com/Datatouille/rl-workshop/blob/master/img/rl_framework.png?raw=1)\n",
        "Source: [Sutton and Barto](https://cdn.preterhuman.net/texts/science_and_technology/artificial_intelligence/Reinforcement%20Learning%20%20An%20Introduction%20-%20Richard%20S.%20Sutton%20,%20Andrew%20G.%20Barto.pdf)"
      ]
    },
    {
      "metadata": {
        "id": "5z7zEup_x0v4",
        "colab_type": "text"
      },
      "cell_type": "markdown",
      "source": [
        "### Example\n",
        "\n",
        "* Walking robots\n",
        "    * Environment: sidewalks\n",
        "    * Agent: a robot\n",
        "    * States: positions, velocities and accelerations of body parts\n",
        "    * Actions: move arms, legs, various joints in the body\n",
        "    * Rewards: fall or not\n",
        "    * Episodes: seconds, miliseconds until fall\n",
        "* Ads bidding\n",
        "    * Environment: Google Adwords\n",
        "    * Agent: an ecommerce company\n",
        "    * States: campaign impressions, clicks, purchases\n",
        "    * Actions: adjust bid prices and budget\n",
        "    * Rewards: conversion rates, cost of new customer acquisitions\n",
        "    * Episodes: daily or hourly until campaign ends\n",
        "* Retail stock trading\n",
        "    * Environment: the stock market\n",
        "    * Agent: a retail investor who cannot influence market prices\n",
        "    * States: market prices, volumes, and other indicators\n",
        "    * Actions: buy, hold, sell\n",
        "    * Rewards: returns, returns adjusted by volatility, and so on\n",
        "    * Episodes: daily, hourly, every second until we are extremely rich or broke\n",
        "    \n",
        "**Concept Assigment** Come up with one or more scenarios that you think could be framed as a reinforcement learning problem and list their elements like the example above. Some candidates are:\n",
        "* [AlphaGo](https://deepmind.com/research/alphago/)\n",
        "* [OpenAI Five Dota Bots](https://openai.com/five/)\n",
        "* [Pancake-flipping Robots](https://www.youtube.com/watch?v=W_gxLKSsSIE&list=PL5nBAYUyJTrM48dViibyi68urttMlUv7e)"
      ]
    },
    {
      "metadata": {
        "id": "rO39Direx0v5",
        "colab_type": "text"
      },
      "cell_type": "markdown",
      "source": [
        "## Markov Property - One-step Dynamics"
      ]
    },
    {
      "metadata": {
        "id": "q8Fg0IzDx0v7",
        "colab_type": "text"
      },
      "cell_type": "markdown",
      "source": [
        "One of the most fundamental assumptions of many reinforcement learning algorithms is that the interactions of the world has **Markov property**. That is, the transitions between states only depend on the current state and action, and not the history of transitions formulated as:\n",
        "\n",
        "$$P(s_{t+1},r_{t+1}|s_t,a_t,r_t,s_{t-1},a_{t-1},...,r_1,s_0,a_0) = P(s_{t+1},r_{t+1}|s_t,a_t)$$\n",
        "\n",
        "This can be seen as unrealistic as we intuitively use cues from a history of transitions to choose our actions in real life but as you will learn its simplicity has merits in terms of reduced complexity in real-world applications and we can incorporate long-term goals into reinforcement learning. In fact, long-term goals are one of the most important research area in reinforcement learning today.\n",
        "\n",
        "![RL Framework](https://github.com/Datatouille/rl-workshop/blob/master/img/mdp_weather.png?raw=1)\n",
        "\n",
        "**Quick Notation** $P(x|y)$ means the probability of $x$ occuring given $y$. For instance, $P(cold|cough)$ is probability that you have a cold, given that you are coughing.\n",
        "\n"
      ]
    },
    {
      "metadata": {
        "id": "A4uUBldqx0v7",
        "colab_type": "text"
      },
      "cell_type": "markdown",
      "source": [
        "## Environment - Gridworld"
      ]
    },
    {
      "metadata": {
        "id": "g0b2HnHnx0v8",
        "colab_type": "text"
      },
      "cell_type": "markdown",
      "source": [
        "### What The Gridworld Looks Like"
      ]
    },
    {
      "metadata": {
        "id": "aa5ZHX9dx0v9",
        "colab_type": "text"
      },
      "cell_type": "markdown",
      "source": [
        "We are going to work on an equivalent of a poor man's version of [Unity's Gridworld](http://awjuliani.github.io/GridGL/).\n",
        "\n",
        "* `F` - Free tiles; agent can move to\n",
        "* `T` - Traps; agent recieves some penalty\n",
        "* `G` - The Goal, episode ends once reached"
      ]
    },
    {
      "metadata": {
        "id": "wRfVSaTDx0v-",
        "colab_type": "code",
        "colab": {},
        "outputId": "2fd765cc-94e6-4f47-fb85-3bea5fb6e0b4"
      },
      "cell_type": "code",
      "source": [
        "env = Gridworld()\n",
        "env.print_physical(visible_only=False)"
      ],
      "execution_count": 0,
      "outputs": [
        {
          "output_type": "stream",
          "text": [
            "\n",
            "------------------------------------\n",
            "['F', 'x'] |['F', 'x'] |['F', 'x'] |\n",
            "------------------------------------\n",
            "['F', 'x'] |['T', 'x'] |['G', 'x'] |\n",
            "------------------------------------\n",
            "['F', 'o'] |['F', 'x'] |['F', 'x'] |"
          ],
          "name": "stdout"
        }
      ]
    },
    {
      "metadata": {
        "id": "74nUotTkx0wC",
        "colab_type": "text"
      },
      "cell_type": "markdown",
      "source": [
        "### States"
      ]
    },
    {
      "metadata": {
        "id": "nnydFV49x0wC",
        "colab_type": "code",
        "colab": {},
        "outputId": "ee34ee6a-1d7a-44d1-f16c-d74b6b180fb6"
      },
      "cell_type": "code",
      "source": [
        "env.state_space"
      ],
      "execution_count": 0,
      "outputs": [
        {
          "output_type": "execute_result",
          "data": {
            "text/plain": [
              "[(0, 0), (0, 1), (0, 2), (1, 0), (1, 1), (1, 2), (2, 0), (2, 1), (2, 2)]"
            ]
          },
          "metadata": {
            "tags": []
          },
          "execution_count": 4
        }
      ]
    },
    {
      "metadata": {
        "id": "Jv8UI3tIx0wF",
        "colab_type": "text"
      },
      "cell_type": "markdown",
      "source": [
        "### Actions"
      ]
    },
    {
      "metadata": {
        "id": "N83nIog7x0wF",
        "colab_type": "code",
        "colab": {},
        "outputId": "10f65701-5cf4-4cfc-8ed8-07d157d2c3a7"
      },
      "cell_type": "code",
      "source": [
        "env.action_space, env.action_text"
      ],
      "execution_count": 0,
      "outputs": [
        {
          "output_type": "execute_result",
          "data": {
            "text/plain": [
              "(array([0, 1, 2, 3]), array(['U', 'L', 'D', 'R'], dtype='<U1'))"
            ]
          },
          "metadata": {
            "tags": []
          },
          "execution_count": 5
        }
      ]
    },
    {
      "metadata": {
        "id": "bE4nwBdZx0wI",
        "colab_type": "text"
      },
      "cell_type": "markdown",
      "source": [
        "### Rewards"
      ]
    },
    {
      "metadata": {
        "id": "SJQ1hX8yx0wJ",
        "colab_type": "code",
        "colab": {},
        "outputId": "b3829625-4963-4773-936a-058a3a51603b"
      },
      "cell_type": "code",
      "source": [
        "env.print_reward()"
      ],
      "execution_count": 0,
      "outputs": [
        {
          "output_type": "stream",
          "text": [
            "\n",
            "----------\n",
            "0 |0 |0 |\n",
            "----------\n",
            "0 |-5 |5 |\n",
            "----------\n",
            "0 |0 |0 |"
          ],
          "name": "stdout"
        }
      ]
    },
    {
      "metadata": {
        "id": "_4I4GYJ7x0wL",
        "colab_type": "code",
        "colab": {},
        "outputId": "1676c8c0-82cc-4930-bef6-f4ae9cb9b21f"
      },
      "cell_type": "code",
      "source": [
        "env.move_reward"
      ],
      "execution_count": 0,
      "outputs": [
        {
          "output_type": "execute_result",
          "data": {
            "text/plain": [
              "-1"
            ]
          },
          "metadata": {
            "tags": []
          },
          "execution_count": 7
        }
      ]
    },
    {
      "metadata": {
        "id": "QqIYdfZRx0wP",
        "colab_type": "text"
      },
      "cell_type": "markdown",
      "source": [
        "### What The Agent Usually Sees"
      ]
    },
    {
      "metadata": {
        "id": "D2lox4h_x0wQ",
        "colab_type": "code",
        "colab": {},
        "outputId": "4ed61e9c-55b5-4def-fbc1-37be0364fdcc"
      },
      "cell_type": "code",
      "source": [
        "env.print_physical(visible_only=True)"
      ],
      "execution_count": 0,
      "outputs": [
        {
          "output_type": "stream",
          "text": [
            "\n",
            "------------------------------------\n",
            "['NA', 'NA'] |['NA', 'NA'] |['NA', 'NA'] |\n",
            "------------------------------------\n",
            "['NA', 'NA'] |['NA', 'NA'] |['NA', 'NA'] |\n",
            "------------------------------------\n",
            "['F', 'o'] |['NA', 'NA'] |['NA', 'NA'] |"
          ],
          "name": "stdout"
        }
      ]
    },
    {
      "metadata": {
        "id": "IRVTpJ4Nx0wT",
        "colab_type": "code",
        "colab": {},
        "outputId": "94986015-98e8-4a74-e94b-42b05cddcda8"
      },
      "cell_type": "code",
      "source": [
        "#go down\n",
        "action = np.argwhere(env.action_text=='U')\n",
        "print(env.step(action))\n",
        "#then right\n",
        "action = np.argwhere(env.action_text=='R')\n",
        "print(env.step(action))\n",
        "env.print_physical(visible_only=True)"
      ],
      "execution_count": 0,
      "outputs": [
        {
          "output_type": "stream",
          "text": [
            "((1, 0), -1, False)\n",
            "((1, 1), -6, False)\n",
            "\n",
            "------------------------------------\n",
            "['NA', 'NA'] |['NA', 'NA'] |['NA', 'NA'] |\n",
            "------------------------------------\n",
            "['F', 'x'] |['T', 'o'] |['NA', 'NA'] |\n",
            "------------------------------------\n",
            "['F', 'x'] |['NA', 'NA'] |['NA', 'NA'] |"
          ],
          "name": "stdout"
        }
      ]
    },
    {
      "metadata": {
        "id": "tSXhc3lSx0wV",
        "colab_type": "text"
      },
      "cell_type": "markdown",
      "source": [
        "### Deterministic Environment vs Stochastic Environment"
      ]
    },
    {
      "metadata": {
        "id": "fQ2cTYzGx0wW",
        "colab_type": "code",
        "colab": {},
        "outputId": "78f2cadd-6e98-43ce-847a-641b507e9a39"
      },
      "cell_type": "code",
      "source": [
        "env = Gridworld(wind_p=0.5)\n",
        "#go down\n",
        "action = np.argwhere(env.action_text=='U')\n",
        "print(env.step(action))\n",
        "#then right\n",
        "action = np.argwhere(env.action_text=='R')\n",
        "print(env.step(action))\n",
        "env.print_physical(visible_only=True)"
      ],
      "execution_count": 0,
      "outputs": [
        {
          "output_type": "stream",
          "text": [
            "((1, 0), -1, False)\n",
            "((2, 1), -1, False)\n",
            "\n",
            "------------------------------------\n",
            "['NA', 'NA'] |['NA', 'NA'] |['NA', 'NA'] |\n",
            "------------------------------------\n",
            "['F', 'x'] |['NA', 'NA'] |['NA', 'NA'] |\n",
            "------------------------------------\n",
            "['F', 'x'] |['F', 'o'] |['NA', 'NA'] |"
          ],
          "name": "stdout"
        }
      ]
    },
    {
      "metadata": {
        "id": "g4MTnVWox0wa",
        "colab_type": "text"
      },
      "cell_type": "markdown",
      "source": [
        "## Agent"
      ]
    },
    {
      "metadata": {
        "id": "o4mnkC9px0wa",
        "colab_type": "text"
      },
      "cell_type": "markdown",
      "source": [
        "### Deterministic Policy"
      ]
    },
    {
      "metadata": {
        "id": "iR7fHKlgx0wc",
        "colab_type": "text"
      },
      "cell_type": "markdown",
      "source": [
        "$\\pi(s) \\in \\mathcal{A}(s)$ for all $s \\in \\mathcal{S}$"
      ]
    },
    {
      "metadata": {
        "id": "Z2dQzD-3x0wc",
        "colab_type": "code",
        "colab": {
          "base_uri": "https://localhost:8080/",
          "height": 459
        },
        "outputId": "819c5aa7-ef06-48dd-f5e2-8afc65612edb"
      },
      "cell_type": "code",
      "source": [
        "#deterministic env\n",
        "env = Gridworld(wind_p=0.)\n",
        "#deterministic policy\n",
        "policy_a = {(0, 0): 3,\n",
        "          (0, 1): 3,\n",
        "          (0, 2): 2,\n",
        "          (1, 0): 3,\n",
        "          (1, 1): 3,\n",
        "          (1, 2): 0,\n",
        "          (2, 0): 3,\n",
        "          (2, 1): 0,\n",
        "          (2, 2): 0}\n",
        "policy_b = {(0, 0): 3,\n",
        "          (0, 1): 3,\n",
        "          (0, 2): 2,\n",
        "          (1, 0): 0,\n",
        "          (1, 1): 3,\n",
        "          (1, 2): 0,\n",
        "          (2, 0): 3,\n",
        "          (2, 1): 3,\n",
        "          (2, 2): 0}\n",
        "\n",
        "#peek\n",
        "print('Reward Grid')\n",
        "env.print_reward()\n",
        "print('\\n')\n",
        "a = MCAgent(env,policy_a)\n",
        "print('Policy A: Reach Goal ASAP')\n",
        "a.print_policy()\n",
        "print('\\n')\n",
        "print('Policy B: Avoid Trap')\n",
        "a.policy = policy_b\n",
        "a.print_policy()"
      ],
      "execution_count": 10,
      "outputs": [
        {
          "output_type": "stream",
          "text": [
            "Reward Grid\n",
            "\n",
            "----------\n",
            "0 |0 |0 |\n",
            "----------\n",
            "0 |-5 |5 |\n",
            "----------\n",
            "0 |0 |0 |\n",
            "\n",
            "Policy A: Reach Goal ASAP\n",
            "\n",
            "----------\n",
            "R |R |D |\n",
            "----------\n",
            "R |R |U |\n",
            "----------\n",
            "R |U |U |\n",
            "\n",
            "Policy B: Avoid Trap\n",
            "\n",
            "----------\n",
            "R |R |D |\n",
            "----------\n",
            "U |R |U |\n",
            "----------\n",
            "R |R |U |"
          ],
          "name": "stdout"
        }
      ]
    },
    {
      "metadata": {
        "id": "8IP7VisTx0wh",
        "colab_type": "text"
      },
      "cell_type": "markdown",
      "source": [
        "### Stochastic Policy - Epsilon Greedy"
      ]
    },
    {
      "metadata": {
        "id": "Ovi02lAVx0wi",
        "colab_type": "text"
      },
      "cell_type": "markdown",
      "source": [
        "$\\pi(a|s) = \\mathbb{P}(A_t=a|S_t=s)$ for all $s \\in \\mathcal{S}$ and $a \\in \\mathcal{A}(s)$"
      ]
    },
    {
      "metadata": {
        "id": "v-W34AK8x0wi",
        "colab_type": "text"
      },
      "cell_type": "markdown",
      "source": [
        "**Coding Assignment** Implement epsilon greedy in the `select_action` function of `agent.py`.\n",
        "\n",
        "Hint: Pseudo-code looks like this\n",
        "```\n",
        "r = random number between 0 and 1\n",
        "if r > epsilon:\n",
        "    perform best action\n",
        "else:\n",
        "    perform random action\n",
        "```"
      ]
    },
    {
      "metadata": {
        "id": "A06r8e-qx0wj",
        "colab_type": "code",
        "colab": {
          "base_uri": "https://localhost:8080/",
          "height": 398
        },
        "outputId": "5266ec1a-f356-4b2a-8590-12afefdf7eba"
      },
      "cell_type": "code",
      "source": [
        "state = (0,0)\n",
        "print(f'Preferred action for {state} is {a.policy[state]}')\n",
        "print('At epsilon 0.5, we get:')\n",
        "actions = np.array([a.select_action(state,epsilon=0.5) for i in range(10000)])\n",
        "plt.hist(actions)[2]"
      ],
      "execution_count": 6,
      "outputs": [
        {
          "output_type": "stream",
          "text": [
            "Preferred action for (0, 0) is 3\n",
            "At epsilon 0.5, we get:\n"
          ],
          "name": "stdout"
        },
        {
          "output_type": "execute_result",
          "data": {
            "text/plain": [
              "<a list of 10 Patch objects>"
            ]
          },
          "metadata": {
            "tags": []
          },
          "execution_count": 6
        },
        {
          "output_type": "display_data",
          "data": {
            "image/png": "[encoded data removed]",
            "text/plain": [
              "<matplotlib.figure.Figure at 0x7fccdf3b0fd0>"
            ]
          },
          "metadata": {
            "tags": []
          }
        }
      ]
    },
    {
      "metadata": {
        "id": "YePlbZowx0wm",
        "colab_type": "code",
        "colab": {}
      },
      "cell_type": "code",
      "source": [
        "#epsilon decaying \n",
        "a = MCAgent(env,policy_a,start_epsilon=0.9,end_epsilon=0.1,epsilon_decay=0.9)"
      ],
      "execution_count": 0,
      "outputs": []
    },
    {
      "metadata": {
        "id": "Ob64BObnx0wp",
        "colab_type": "code",
        "colab": {},
        "outputId": "2e869ec9-d7cb-4f65-cbbb-9b3e7cbd36bc"
      },
      "cell_type": "code",
      "source": [
        "eps = np.array([a.get_epsilon(i) for i in range(100)])\n",
        "plt.plot(eps)"
      ],
      "execution_count": 0,
      "outputs": [
        {
          "output_type": "execute_result",
          "data": {
            "text/plain": [
              "[<matplotlib.lines.Line2D at 0x7f19868f1208>]"
            ]
          },
          "metadata": {
            "tags": []
          },
          "execution_count": 18
        },
        {
          "output_type": "display_data",
          "data": {
            "image/png": "[encoded data removed]",
            "text/plain": [
              "<Figure size 432x288 with 1 Axes>"
            ]
          },
          "metadata": {
            "tags": []
          }
        }
      ]
    },
    {
      "metadata": {
        "id": "mAgGf9z_x0wu",
        "colab_type": "text"
      },
      "cell_type": "markdown",
      "source": [
        "### State Value"
      ]
    },
    {
      "metadata": {
        "id": "zCrxmTjXx0wv",
        "colab_type": "text"
      },
      "cell_type": "markdown",
      "source": [
        "$v_\\pi(s) = \\sum_{a \\in \\mathcal{A}(s)}\\pi(a|s)\\sum_{s' \\in \\mathcal{S}, r\\in\\mathcal{R}}p(s',r|s,a)(r + \\gamma v_\\pi(s'))$"
      ]
    },
    {
      "metadata": {
        "id": "toKw2Nu_x0wv",
        "colab_type": "code",
        "colab": {},
        "outputId": "1cd0808c-0100-47c9-d03b-8a751cf90c34"
      },
      "cell_type": "code",
      "source": [
        "#deterministic env\n",
        "env = Gridworld(wind_p=0.)\n",
        "policy = {(0, 0): 3,\n",
        "          (0, 1): 3,\n",
        "          (0, 2): 2,\n",
        "          (1, 0): 3,\n",
        "          (1, 1): 3,\n",
        "          (1, 2): 0,\n",
        "          (2, 0): 3,\n",
        "          (2, 1): 0,\n",
        "          (2, 2): 0}\n",
        "a = MCAgent(env,policy = policy, gamma = 1)\n",
        "print('Reward Grid')\n",
        "env.print_reward()\n",
        "print('\\n')\n",
        "print('Policy: Reach Goal ASAP')\n",
        "a.print_policy()"
      ],
      "execution_count": 0,
      "outputs": [
        {
          "output_type": "stream",
          "text": [
            "Reward Grid\n",
            "\n",
            "----------\n",
            "0 |0 |0 |\n",
            "----------\n",
            "0 |-5 |5 |\n",
            "----------\n",
            "0 |0 |0 |\n",
            "\n",
            "Policy: Reach Goal ASAP\n",
            "\n",
            "----------\n",
            "R |R |D |\n",
            "----------\n",
            "R |R |U |\n",
            "----------\n",
            "R |U |U |"
          ],
          "name": "stdout"
        }
      ]
    },
    {
      "metadata": {
        "id": "cp2FMht9x0wx",
        "colab_type": "text"
      },
      "cell_type": "markdown",
      "source": [
        "**Coding Assigment** Implement `get_v` to find out the state value of each state.\n",
        "\n",
        "Hint: Pseudo-code looks like this\n",
        "\n",
        "```\n",
        "Run through the gridworld, starting at `start_state` and save transitions to `episode`\n",
        "`episode` contains n transitions and each looks like this (state,action,reward,next_state,done)\n",
        "\n",
        "value = 0\n",
        "for i in 0 to n:\n",
        "    value += reward[i] * (gamma**i)\n",
        "return(value)\n",
        "```"
      ]
    },
    {
      "metadata": {
        "id": "0Qddt1ZXx0wx",
        "colab_type": "code",
        "colab": {},
        "outputId": "23f1f991-55c8-40ae-b414-c63e7e608b20"
      },
      "cell_type": "code",
      "source": [
        "for state in env.state_space:\n",
        "    a.v[state] = a.get_v(start_state=state, epsilon=0.)\n",
        "a.print_v()"
      ],
      "execution_count": 0,
      "outputs": [
        {
          "output_type": "stream",
          "text": [
            "\n",
            "---------------\n",
            "2 |3 |4 |\n",
            "---------------\n",
            "-2 |4 |3 |\n",
            "---------------\n",
            "-3 |-2 |4 |"
          ],
          "name": "stdout"
        }
      ]
    },
    {
      "metadata": {
        "id": "GmHSOYjLx0w0",
        "colab_type": "code",
        "colab": {},
        "outputId": "ae659f11-6b62-4fb7-bbcc-c838801b0cb7"
      },
      "cell_type": "code",
      "source": [
        "a.gamma = 0.5\n",
        "for state in env.state_space:\n",
        "    a.v[state] = a.get_v(start_state=state, epsilon=0.)\n",
        "a.print_v()"
      ],
      "execution_count": 0,
      "outputs": [
        {
          "output_type": "stream",
          "text": [
            "\n",
            "---------------\n",
            "-0.5 |1.0 |4.0 |\n",
            "---------------\n",
            "-4.0 |4.0 |1.0 |\n",
            "---------------\n",
            "-3.0 |-4.0 |4.0 |"
          ],
          "name": "stdout"
        }
      ]
    },
    {
      "metadata": {
        "id": "e51FW2ndx0w1",
        "colab_type": "text"
      },
      "cell_type": "markdown",
      "source": [
        "**Concept assigment** What are the best discount factor $\\gamma$ for each of the following environments?\n",
        "* [CartPole OpenAI](https://github.com/openai/gym/wiki/CartPole-v0) - An agent is a cart trying to balance a pole by going left or right. It gets +1 for each step the pole stays on and +0 when the pole falls over.\n",
        "* [CartPole Alternative](http://incompleteideas.net/book/the-book-2nd.html) - An agent is a cart trying to balance a pole by going left or right. It gets -1 if the pole falls over and +0 otherwise.\n",
        "* [Banana Collector](https://www.youtube.com/watch?v=heVMs3t9qSk) - An agent is a robot who collects bananas in a room. It gets +1 for yellow bananas and -1 for blue bananas. The time limit is 300 steps."
      ]
    },
    {
      "metadata": {
        "id": "pxTJx3Tdx0w2",
        "colab_type": "text"
      },
      "cell_type": "markdown",
      "source": [
        "### (State-)Action Value"
      ]
    },
    {
      "metadata": {
        "id": "hAZo-GSFx0w3",
        "colab_type": "text"
      },
      "cell_type": "markdown",
      "source": [
        "$q_\\pi(s,a) = \\sum_{s' \\in \\mathcal{S}, r\\in\\mathcal{R}}p(s',r|s,a)(r + \\gamma\\sum_{a' \\in \\mathcal{A}(s')} \\pi(a'|s') q_\\pi(s',a'))$"
      ]
    },
    {
      "metadata": {
        "id": "rqv5M8pnx0w3",
        "colab_type": "code",
        "colab": {},
        "outputId": "d33f8d6f-4a59-4c59-e8a5-c1ee3ceb00d1"
      },
      "cell_type": "code",
      "source": [
        "print('Reward Grid')\n",
        "env.print_reward()\n",
        "print('\\n')\n",
        "print('Policy: Reach Goal ASAP')\n",
        "a.print_policy()\n",
        "\n",
        "a.gamma=1\n",
        "for state in env.state_space:\n",
        "    for action in env.action_space:\n",
        "        a.q[state][action] = a.get_q(state,action,epsilon=0.)\n",
        "\n",
        "print(f'\\nActions: {env.action_text}')\n",
        "for i in a.q: print(i,a.q[i])"
      ],
      "execution_count": 0,
      "outputs": [
        {
          "output_type": "stream",
          "text": [
            "Reward Grid\n",
            "\n",
            "----------\n",
            "0 |0 |0 |\n",
            "----------\n",
            "0 |-5 |5 |\n",
            "----------\n",
            "0 |0 |0 |\n",
            "\n",
            "Policy: Reach Goal ASAP\n",
            "\n",
            "----------\n",
            "R |R |D |\n",
            "----------\n",
            "R |R |U |\n",
            "----------\n",
            "R |U |U |\n",
            "Actions: ['U' 'L' 'D' 'R']\n",
            "(0, 0) [ 1.  1. -3.  2.]\n",
            "(0, 1) [ 2.  1. -2.  3.]\n",
            "(0, 2) [3. 2. 4. 3.]\n",
            "(1, 0) [ 1. -3. -4. -2.]\n",
            "(1, 1) [ 2. -3. -3.  4.]\n",
            "(1, 2) [ 3. -2.  3. -1.]\n",
            "(2, 0) [-3. -4. -4. -3.]\n",
            "(2, 1) [-2. -4. -3.  3.]\n",
            "(2, 2) [ 4. -3.  3.  3.]\n"
          ],
          "name": "stdout"
        }
      ]
    },
    {
      "metadata": {
        "id": "M1PB_w1Lx0w6",
        "colab_type": "text"
      },
      "cell_type": "markdown",
      "source": [
        "### Comparing Policies"
      ]
    },
    {
      "metadata": {
        "id": "r3wWKMZGx0w7",
        "colab_type": "text"
      },
      "cell_type": "markdown",
      "source": [
        "When comparing two policies a and b:\n",
        "\n",
        "$\\pi_a > \\pi_b$ if and only if $v_{\\pi_a}(s) > v_{\\pi_b}(s)$ for all $s \\in \\mathcal{S}$\n",
        "\n",
        "An optimal policy $\\pi^*$ is defined as:\n",
        "\n",
        "$\\pi^* > \\pi$ for all $\\pi$\n",
        "\n",
        "We can also find an optimal policy from action value function as choosing the action with the highest q-value out of any action in that state:\n",
        "\n",
        "$\\pi^*(s) = argmax_{a \\in \\mathcal{A}}q^*(s,a)$"
      ]
    },
    {
      "metadata": {
        "id": "QwoEUzR_x0w7",
        "colab_type": "code",
        "colab": {},
        "outputId": "8181dcf1-b733-4a7e-8a92-aa10f6775688"
      },
      "cell_type": "code",
      "source": [
        "#deterministic env\n",
        "env = Gridworld(wind_p=0.)\n",
        "#deterministic policy\n",
        "policy_a = {(0, 0): 3,\n",
        "          (0, 1): 3,\n",
        "          (0, 2): 2,\n",
        "          (1, 0): 3,\n",
        "          (1, 1): 3,\n",
        "          (1, 2): 0,\n",
        "          (2, 0): 3,\n",
        "          (2, 1): 0,\n",
        "          (2, 2): 0}\n",
        "policy_b = {(0, 0): 3,\n",
        "          (0, 1): 3,\n",
        "          (0, 2): 2,\n",
        "          (1, 0): 0,\n",
        "          (1, 1): 3,\n",
        "          (1, 2): 0,\n",
        "          (2, 0): 3,\n",
        "          (2, 1): 3,\n",
        "          (2, 2): 0}\n",
        "\n",
        "a = MCAgent(env,policy_a)\n",
        "print('Policy A: Reach Goal ASAP')\n",
        "a.print_policy()\n",
        "for state in env.state_space:\n",
        "    a.v[state] = a.get_v(start_state=state, epsilon=0.)\n",
        "a.print_v()\n",
        "print('\\n')\n",
        "print('Policy B: Avoid Trap')\n",
        "a.policy = policy_b\n",
        "a.print_policy()\n",
        "for state in env.state_space:\n",
        "    a.v[state] = a.get_v(start_state=state, epsilon=0.)\n",
        "a.print_v()"
      ],
      "execution_count": 0,
      "outputs": [
        {
          "output_type": "stream",
          "text": [
            "Policy A: Reach Goal ASAP\n",
            "\n",
            "----------\n",
            "R |R |D |\n",
            "----------\n",
            "R |R |U |\n",
            "----------\n",
            "R |U |U |\n",
            "---------------\n",
            "1.3 |2.6 |4.0 |\n",
            "---------------\n",
            "-2.4 |4.0 |2.6 |\n",
            "---------------\n",
            "-3.2 |-2.4 |4.0 |\n",
            "\n",
            "Policy B: Avoid Trap\n",
            "\n",
            "----------\n",
            "R |R |D |\n",
            "----------\n",
            "U |R |U |\n",
            "----------\n",
            "R |R |U |\n",
            "---------------\n",
            "1.3 |2.6 |4.0 |\n",
            "---------------\n",
            "0.2 |4.0 |2.6 |\n",
            "---------------\n",
            "1.3 |2.6 |4.0 |"
          ],
          "name": "stdout"
        }
      ]
    },
    {
      "metadata": {
        "id": "zpFuZbhdx0w-",
        "colab_type": "text"
      },
      "cell_type": "markdown",
      "source": [
        "## Words of Caution\n",
        "\n",
        "A few reasons [Deep Reinforcement Learning Doesn't Work Yet](https://www.alexirpan.com/2018/02/14/rl-hard.html):\n",
        "* It still takes too much time to learn simple things; for instance, one of the previous state-of-the-art Rainbow model takes over 80 hours to learn to play Atari games at human level. Even a child would only need a few hours on their phone.\n",
        "* Supervised learning works so well.\n",
        "* Instead of labels, you decide on a reward to motivate the models and it is a tricky business; for example, how would give rewards to an humanoid robot agent for it to learn how to walk?\n",
        "* There are so many hyperparameters to take care of.\n",
        "* A lot of times it is [just random search](https://arxiv.org/abs/1803.07055).\n",
        "\n",
        "![Foundational Flaw](https://github.com/Datatouille/rl-workshop/blob/master/img/foundational_flaw.PNG?raw=1)\n",
        "\n",
        "Source: [Reinforcement learning’s foundational flaw](https://thegradient.pub/why-rl-is-flawed/)"
      ]
    },
    {
      "metadata": {
        "id": "tDeLKiIvx0w_",
        "colab_type": "text"
      },
      "cell_type": "markdown",
      "source": [
        "## Challenges"
      ]
    },
    {
      "metadata": {
        "id": "e2ZoRYlux0xA",
        "colab_type": "text"
      },
      "cell_type": "markdown",
      "source": [
        "* Read up on Bellman's equations and find out where they hid in our workshop today.\n",
        "* What are you ideas about how we can find the policy policy?\n",
        "* Play around with Gridworld. Tweak these variables and see what happens:\n",
        "    * Expand the grid and/or add some more traps\n",
        "    * Wing probability\n",
        "    * Move rewards\n",
        "    * Discount factor\n",
        "    * Epsilon and how to decay it (or not)"
      ]
    },
    {
      "metadata": {
        "id": "cEUN4UCmx0xA",
        "colab_type": "code",
        "colab": {}
      },
      "cell_type": "code",
      "source": [
        ""
      ],
      "execution_count": 0,
      "outputs": []
    }
  ]
}